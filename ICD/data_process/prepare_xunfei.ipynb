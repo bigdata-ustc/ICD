{
 "cells": [
  {
   "cell_type": "code",
   "execution_count": 13,
   "metadata": {},
   "outputs": [
    {
     "name": "stdout",
     "output_type": "stream",
     "text": [
      "864722\n",
      "862169\n",
      "862169\n"
     ]
    },
    {
     "data": {
      "text/html": [
       "<div>\n",
       "<style scoped>\n",
       "    .dataframe tbody tr th:only-of-type {\n",
       "        vertical-align: middle;\n",
       "    }\n",
       "\n",
       "    .dataframe tbody tr th {\n",
       "        vertical-align: top;\n",
       "    }\n",
       "\n",
       "    .dataframe thead th {\n",
       "        text-align: right;\n",
       "    }\n",
       "</style>\n",
       "<table border=\"1\" class=\"dataframe\">\n",
       "  <thead>\n",
       "    <tr style=\"text-align: right;\">\n",
       "      <th></th>\n",
       "      <th>index</th>\n",
       "      <th>user_id</th>\n",
       "      <th>item_id</th>\n",
       "      <th>score</th>\n",
       "    </tr>\n",
       "  </thead>\n",
       "  <tbody>\n",
       "    <tr>\n",
       "      <th>0</th>\n",
       "      <td>0</td>\n",
       "      <td>4497</td>\n",
       "      <td>1</td>\n",
       "      <td>0.0</td>\n",
       "    </tr>\n",
       "    <tr>\n",
       "      <th>1</th>\n",
       "      <td>1</td>\n",
       "      <td>4511</td>\n",
       "      <td>1</td>\n",
       "      <td>1.0</td>\n",
       "    </tr>\n",
       "    <tr>\n",
       "      <th>2</th>\n",
       "      <td>2</td>\n",
       "      <td>4455</td>\n",
       "      <td>1</td>\n",
       "      <td>1.0</td>\n",
       "    </tr>\n",
       "    <tr>\n",
       "      <th>3</th>\n",
       "      <td>3</td>\n",
       "      <td>4502</td>\n",
       "      <td>1</td>\n",
       "      <td>1.0</td>\n",
       "    </tr>\n",
       "    <tr>\n",
       "      <th>4</th>\n",
       "      <td>4</td>\n",
       "      <td>4526</td>\n",
       "      <td>1</td>\n",
       "      <td>0.0</td>\n",
       "    </tr>\n",
       "    <tr>\n",
       "      <th>...</th>\n",
       "      <td>...</td>\n",
       "      <td>...</td>\n",
       "      <td>...</td>\n",
       "      <td>...</td>\n",
       "    </tr>\n",
       "    <tr>\n",
       "      <th>862164</th>\n",
       "      <td>173914</td>\n",
       "      <td>2320</td>\n",
       "      <td>2507</td>\n",
       "      <td>0.0</td>\n",
       "    </tr>\n",
       "    <tr>\n",
       "      <th>862165</th>\n",
       "      <td>173915</td>\n",
       "      <td>2232</td>\n",
       "      <td>2507</td>\n",
       "      <td>1.0</td>\n",
       "    </tr>\n",
       "    <tr>\n",
       "      <th>862166</th>\n",
       "      <td>173916</td>\n",
       "      <td>2324</td>\n",
       "      <td>2507</td>\n",
       "      <td>1.0</td>\n",
       "    </tr>\n",
       "    <tr>\n",
       "      <th>862167</th>\n",
       "      <td>173917</td>\n",
       "      <td>2163</td>\n",
       "      <td>2507</td>\n",
       "      <td>1.0</td>\n",
       "    </tr>\n",
       "    <tr>\n",
       "      <th>862168</th>\n",
       "      <td>173918</td>\n",
       "      <td>2314</td>\n",
       "      <td>2507</td>\n",
       "      <td>1.0</td>\n",
       "    </tr>\n",
       "  </tbody>\n",
       "</table>\n",
       "<p>862169 rows × 4 columns</p>\n",
       "</div>"
      ],
      "text/plain": [
       "         index  user_id  item_id  score\n",
       "0            0     4497        1    0.0\n",
       "1            1     4511        1    1.0\n",
       "2            2     4455        1    1.0\n",
       "3            3     4502        1    1.0\n",
       "4            4     4526        1    0.0\n",
       "...        ...      ...      ...    ...\n",
       "862164  173914     2320     2507    0.0\n",
       "862165  173915     2232     2507    1.0\n",
       "862166  173916     2324     2507    1.0\n",
       "862167  173917     2163     2507    1.0\n",
       "862168  173918     2314     2507    1.0\n",
       "\n",
       "[862169 rows x 4 columns]"
      ]
     },
     "execution_count": 13,
     "metadata": {},
     "output_type": "execute_result"
    }
   ],
   "source": [
    "import pandas as pd\n",
    "# from examples.tools import analyze_data\n",
    "path_prefix='/home/yutingh/data/xunfei/data/'\n",
    "train_data = pd.read_csv(path_prefix+'train.csv',\n",
    "                         encoding=\"utf-8\", low_memory=False)\n",
    "valid_data = pd.read_csv(path_prefix+'valid.csv',\n",
    "                         encoding=\"utf-8\", low_memory=False)\n",
    "test_data = pd.read_csv(path_prefix+'test.csv',\n",
    "                        encoding=\"utf-8\", low_memory=False)\n",
    "data = train_data.append([valid_data,test_data])                        \n",
    "print(len(data))\n",
    "data = data.drop_duplicates(['user_id','item_id']) \n",
    "print(len(data))\n",
    "data = data.dropna()\n",
    "print(len(data))\n",
    "data = data.reset_index()\n",
    "data "
   ]
  },
  {
   "cell_type": "code",
   "execution_count": 14,
   "metadata": {},
   "outputs": [
    {
     "name": "stdout",
     "output_type": "stream",
     "text": [
      "380001\n",
      "357238\n",
      "263524\n"
     ]
    }
   ],
   "source": [
    "data=data.loc[:380000,:]\n",
    "print(len(data))\n",
    "group = data.groupby(['user_id'])\n",
    "data =pd.DataFrame()\n",
    "for gp in group:\n",
    "    if len(gp[1])>15:\n",
    "        data = data.append(gp[1])\n",
    "print(len(data))\n",
    "group =data.groupby(['item_id'])\n",
    "data =pd.DataFrame()\n",
    "for gp in group:\n",
    "    if len(gp[1])>30 and len(gp[1])<=500:\n",
    "        data = data.append(gp[1])\n",
    "print(len(data))\n",
    "\n"
   ]
  },
  {
   "cell_type": "code",
   "execution_count": 15,
   "metadata": {},
   "outputs": [
    {
     "data": {
      "text/html": [
       "<div>\n",
       "<style scoped>\n",
       "    .dataframe tbody tr th:only-of-type {\n",
       "        vertical-align: middle;\n",
       "    }\n",
       "\n",
       "    .dataframe tbody tr th {\n",
       "        vertical-align: top;\n",
       "    }\n",
       "\n",
       "    .dataframe thead th {\n",
       "        text-align: right;\n",
       "    }\n",
       "</style>\n",
       "<table border=\"1\" class=\"dataframe\">\n",
       "  <thead>\n",
       "    <tr style=\"text-align: right;\">\n",
       "      <th></th>\n",
       "      <th>level_0</th>\n",
       "      <th>index</th>\n",
       "      <th>user_id</th>\n",
       "      <th>item_id</th>\n",
       "      <th>score</th>\n",
       "    </tr>\n",
       "  </thead>\n",
       "  <tbody>\n",
       "    <tr>\n",
       "      <th>0</th>\n",
       "      <td>40</td>\n",
       "      <td>40</td>\n",
       "      <td>4444</td>\n",
       "      <td>1</td>\n",
       "      <td>1.0</td>\n",
       "    </tr>\n",
       "    <tr>\n",
       "      <th>1</th>\n",
       "      <td>45</td>\n",
       "      <td>45</td>\n",
       "      <td>4446</td>\n",
       "      <td>1</td>\n",
       "      <td>1.0</td>\n",
       "    </tr>\n",
       "    <tr>\n",
       "      <th>2</th>\n",
       "      <td>44</td>\n",
       "      <td>44</td>\n",
       "      <td>4448</td>\n",
       "      <td>1</td>\n",
       "      <td>1.0</td>\n",
       "    </tr>\n",
       "    <tr>\n",
       "      <th>3</th>\n",
       "      <td>57</td>\n",
       "      <td>57</td>\n",
       "      <td>4449</td>\n",
       "      <td>1</td>\n",
       "      <td>1.0</td>\n",
       "    </tr>\n",
       "    <tr>\n",
       "      <th>4</th>\n",
       "      <td>47</td>\n",
       "      <td>47</td>\n",
       "      <td>4451</td>\n",
       "      <td>1</td>\n",
       "      <td>1.0</td>\n",
       "    </tr>\n",
       "    <tr>\n",
       "      <th>...</th>\n",
       "      <td>...</td>\n",
       "      <td>...</td>\n",
       "      <td>...</td>\n",
       "      <td>...</td>\n",
       "      <td>...</td>\n",
       "    </tr>\n",
       "    <tr>\n",
       "      <th>263519</th>\n",
       "      <td>379768</td>\n",
       "      <td>380221</td>\n",
       "      <td>4368</td>\n",
       "      <td>1506</td>\n",
       "      <td>0.0</td>\n",
       "    </tr>\n",
       "    <tr>\n",
       "      <th>263520</th>\n",
       "      <td>379827</td>\n",
       "      <td>380280</td>\n",
       "      <td>4370</td>\n",
       "      <td>1506</td>\n",
       "      <td>1.0</td>\n",
       "    </tr>\n",
       "    <tr>\n",
       "      <th>263521</th>\n",
       "      <td>379971</td>\n",
       "      <td>380424</td>\n",
       "      <td>4373</td>\n",
       "      <td>1506</td>\n",
       "      <td>1.0</td>\n",
       "    </tr>\n",
       "    <tr>\n",
       "      <th>263522</th>\n",
       "      <td>379993</td>\n",
       "      <td>380446</td>\n",
       "      <td>4374</td>\n",
       "      <td>1506</td>\n",
       "      <td>1.0</td>\n",
       "    </tr>\n",
       "    <tr>\n",
       "      <th>263523</th>\n",
       "      <td>379855</td>\n",
       "      <td>380308</td>\n",
       "      <td>4375</td>\n",
       "      <td>1506</td>\n",
       "      <td>1.0</td>\n",
       "    </tr>\n",
       "  </tbody>\n",
       "</table>\n",
       "<p>263524 rows × 5 columns</p>\n",
       "</div>"
      ],
      "text/plain": [
       "        level_0   index  user_id  item_id  score\n",
       "0            40      40     4444        1    1.0\n",
       "1            45      45     4446        1    1.0\n",
       "2            44      44     4448        1    1.0\n",
       "3            57      57     4449        1    1.0\n",
       "4            47      47     4451        1    1.0\n",
       "...         ...     ...      ...      ...    ...\n",
       "263519   379768  380221     4368     1506    0.0\n",
       "263520   379827  380280     4370     1506    1.0\n",
       "263521   379971  380424     4373     1506    1.0\n",
       "263522   379993  380446     4374     1506    1.0\n",
       "263523   379855  380308     4375     1506    1.0\n",
       "\n",
       "[263524 rows x 5 columns]"
      ]
     },
     "execution_count": 15,
     "metadata": {},
     "output_type": "execute_result"
    }
   ],
   "source": [
    "data1 = data.reset_index()\n",
    "data1"
   ]
  },
  {
   "cell_type": "code",
   "execution_count": 16,
   "metadata": {},
   "outputs": [
    {
     "name": "stdout",
     "output_type": "stream",
     "text": [
      "2253\n",
      "1180\n"
     ]
    }
   ],
   "source": [
    "# print(max(data1['user_id']),max(data1['item_id']),len(data1))\n",
    "item_set=set(data1['item_id'])\n",
    "item = pd.read_csv('/home/yutingh/data/xunfei/item.csv',\n",
    "                         encoding=\"utf-8\", low_memory=False)\n",
    "know_set=set()\n",
    "print(len(item))\n",
    "df=pd.DataFrame()\n",
    "for i,row in item.iterrows():\n",
    "    if row['item_id'] in item_set:\n",
    "        df = df.append(row,ignore_index=True)\n",
    "        know_set.update(eval(row['knowledge_code']))                         \n",
    "print(len(df))\n",
    "# print(max(know_set))"
   ]
  },
  {
   "cell_type": "code",
   "execution_count": 17,
   "metadata": {},
   "outputs": [
    {
     "name": "stdout",
     "output_type": "stream",
     "text": [
      "497\n"
     ]
    }
   ],
   "source": [
    "print(max(know_set))"
   ]
  },
  {
   "cell_type": "code",
   "execution_count": 18,
   "metadata": {},
   "outputs": [
    {
     "name": "stdout",
     "output_type": "stream",
     "text": [
      "6820 1180 263524\n"
     ]
    }
   ],
   "source": [
    "# 压缩user_id,item_id\n",
    "from tqdm import tqdm\n",
    "user_dict={}\n",
    "for i,data in enumerate(data1['user_id'].unique()):\n",
    "    user_dict[data]=i+1\n",
    "data1[u'user_id'] = data1[u'user_id'].apply(lambda x :user_dict[x])\n",
    "item_dict={}\n",
    "for i,data in enumerate(data1['item_id'].unique()):\n",
    "    item_dict[data]=i+1\n",
    "data1[u'item_id'] = data1[u'item_id'].apply(lambda x :item_dict[x])\n",
    "# print(len(data1))\n",
    "print(max(data1['user_id']),max(data1['item_id']),len(data1))\n"
   ]
  },
  {
   "cell_type": "code",
   "execution_count": 19,
   "metadata": {},
   "outputs": [],
   "source": [
    "df[u'item_id'] = df[u'item_id'].apply(lambda x :item_dict[x])\n",
    "skill_dict={}\n",
    "for i,data in enumerate(know_set):\n",
    "    skill_dict[data]=i+1\n"
   ]
  },
  {
   "cell_type": "code",
   "execution_count": 20,
   "metadata": {},
   "outputs": [
    {
     "name": "stdout",
     "output_type": "stream",
     "text": [
      "   item_id   knowledge_code\n",
      "0       55  [231, 232, 234]\n",
      "1     1010  [279, 288, 289]\n",
      "2      172       [339, 341]\n",
      "3      420            [100]\n",
      "4      483       [336, 337]\n"
     ]
    },
    {
     "data": {
      "text/html": [
       "<div>\n",
       "<style scoped>\n",
       "    .dataframe tbody tr th:only-of-type {\n",
       "        vertical-align: middle;\n",
       "    }\n",
       "\n",
       "    .dataframe tbody tr th {\n",
       "        vertical-align: top;\n",
       "    }\n",
       "\n",
       "    .dataframe thead th {\n",
       "        text-align: right;\n",
       "    }\n",
       "</style>\n",
       "<table border=\"1\" class=\"dataframe\">\n",
       "  <thead>\n",
       "    <tr style=\"text-align: right;\">\n",
       "      <th></th>\n",
       "      <th>item_id</th>\n",
       "      <th>knowledge_code</th>\n",
       "    </tr>\n",
       "  </thead>\n",
       "  <tbody>\n",
       "    <tr>\n",
       "      <th>0</th>\n",
       "      <td>55</td>\n",
       "      <td>[163, 164, 166]</td>\n",
       "    </tr>\n",
       "    <tr>\n",
       "      <th>1</th>\n",
       "      <td>1010</td>\n",
       "      <td>[206, 214, 215]</td>\n",
       "    </tr>\n",
       "    <tr>\n",
       "      <th>2</th>\n",
       "      <td>172</td>\n",
       "      <td>[258, 260]</td>\n",
       "    </tr>\n",
       "    <tr>\n",
       "      <th>3</th>\n",
       "      <td>420</td>\n",
       "      <td>[68]</td>\n",
       "    </tr>\n",
       "    <tr>\n",
       "      <th>4</th>\n",
       "      <td>483</td>\n",
       "      <td>[255, 256]</td>\n",
       "    </tr>\n",
       "  </tbody>\n",
       "</table>\n",
       "</div>"
      ],
      "text/plain": [
       "   item_id   knowledge_code\n",
       "0       55  [163, 164, 166]\n",
       "1     1010  [206, 214, 215]\n",
       "2      172       [258, 260]\n",
       "3      420             [68]\n",
       "4      483       [255, 256]"
      ]
     },
     "execution_count": 20,
     "metadata": {},
     "output_type": "execute_result"
    }
   ],
   "source": [
    "def skill2know(str):\n",
    "    tmp_arr = eval(str)\n",
    "    tmp_arr1=[]\n",
    "    for j in tmp_arr:\n",
    "        tmp_arr1.append(skill_dict[j])\n",
    "    return tmp_arr1\n",
    "print(df.head())\n",
    "df[u'knowledge_code'] = df[u'knowledge_code'].apply(lambda x :skill2know(x))\n",
    "df.head()\n"
   ]
  },
  {
   "cell_type": "code",
   "execution_count": 21,
   "metadata": {},
   "outputs": [],
   "source": [
    "from sklearn.utils import shuffle\n",
    "data1=shuffle(data1,random_state=1)"
   ]
  },
  {
   "cell_type": "code",
   "execution_count": 22,
   "metadata": {},
   "outputs": [],
   "source": [
    "df.to_csv('/home/yutingh/icd/data/xunfei/item.csv', index=None)\n",
    "data1=pd.DataFrame(data1,columns=['user_id','item_id','score'])\n",
    "data1.to_csv('/home/yutingh/icd/data/xunfei/log.csv', index=None)"
   ]
  },
  {
   "cell_type": "code",
   "execution_count": 23,
   "metadata": {},
   "outputs": [
    {
     "name": "stdout",
     "output_type": "stream",
     "text": [
      "6820\n",
      "1180\n"
     ]
    }
   ],
   "source": [
    "print(len(user_dict.keys()))\n",
    "print(len(item_dict.keys()))"
   ]
  }
 ],
 "metadata": {
  "interpreter": {
   "hash": "33e1e3f59c9c8fbb0438f2de6e3be4097c84a02e6261b1cdb83a3c1568226110"
  },
  "kernelspec": {
   "display_name": "Python 3.6.13 ('base')",
   "language": "python",
   "name": "python3"
  },
  "language_info": {
   "codemirror_mode": {
    "name": "ipython",
    "version": 3
   },
   "file_extension": ".py",
   "mimetype": "text/x-python",
   "name": "python",
   "nbconvert_exporter": "python",
   "pygments_lexer": "ipython3",
   "version": "3.6.13"
  },
  "orig_nbformat": 4
 },
 "nbformat": 4,
 "nbformat_minor": 2
}
