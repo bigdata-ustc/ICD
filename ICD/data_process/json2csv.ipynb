{
 "cells": [
  {
   "cell_type": "code",
   "execution_count": 3,
   "metadata": {},
   "outputs": [],
   "source": [
    "# json2csv\n",
    "import json\n",
    "import pandas as pd\n",
    "\n",
    "def json2csv(filename,destfilename):\n",
    "    with open(filename, \"r\") as f:\n",
    "        print(filename,destfilename)\n",
    "        df =pd.DataFrame()\n",
    "        for line in f:\n",
    "            tmp=json.loads(line)\n",
    "            df = df.append({'acc':tmp['metrics']['accuracy'],'auc':tmp['metrics']['macro_auc'],'doa':tmp['metrics']['doa']},ignore_index=True)\n",
    "        df = df.transpose()\n",
    "        df.to_csv(destfilename,index=None)\n"
   ]
  },
  {
   "cell_type": "code",
   "execution_count": 6,
   "metadata": {},
   "outputs": [
    {
     "name": "stdout",
     "output_type": "stream",
     "text": [
      "/home/yutingh/icd/data/a0910/model/mirt/icd_v0/metrics.csv\n",
      "/home/yutingh/icd/data/a0910/model/mirt/icd_v0/metrics.json /home/yutingh/icd/data/a0910/model/mirt/icd_v0/metrics.csv\n"
     ]
    }
   ],
   "source": [
    "file_name = '/home/yutingh/icd/data/a0910/model/mirt/icd_v0/metrics.json'\n",
    "dest_file_name = file_name.replace('.json', '.csv')\n",
    "print(dest_file_name)\n",
    "data = json2csv(file_name, dest_file_name)\n"
   ]
  }
 ],
 "metadata": {
  "interpreter": {
   "hash": "33e1e3f59c9c8fbb0438f2de6e3be4097c84a02e6261b1cdb83a3c1568226110"
  },
  "kernelspec": {
   "display_name": "Python 3.6.13 ('base')",
   "language": "python",
   "name": "python3"
  },
  "language_info": {
   "codemirror_mode": {
    "name": "ipython",
    "version": 3
   },
   "file_extension": ".py",
   "mimetype": "text/x-python",
   "name": "python",
   "nbconvert_exporter": "python",
   "pygments_lexer": "ipython3",
   "version": "3.6.13"
  },
  "orig_nbformat": 4
 },
 "nbformat": 4,
 "nbformat_minor": 2
}
